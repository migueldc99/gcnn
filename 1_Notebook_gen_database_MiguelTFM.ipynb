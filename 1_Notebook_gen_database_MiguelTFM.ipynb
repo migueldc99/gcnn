{
 "cells": [
  {
   "cell_type": "markdown",
   "metadata": {
    "id": "Hrat0OAjR433"
   },
   "source": [
    "We import all required modules"
   ]
  },
  {
   "cell_type": "code",
   "execution_count": 1,
   "metadata": {
    "colab": {
     "base_uri": "https://localhost:8080/"
    },
    "executionInfo": {
     "elapsed": 24775,
     "status": "ok",
     "timestamp": 1657998248496,
     "user": {
      "displayName": "Miguel Dalmau Casañal",
      "userId": "18435987340009841788"
     },
     "user_tz": -120
    },
    "id": "GvEPz53pSdU3",
    "outputId": "53cd91e6-1656-42da-9f7f-88db76c2cb3d"
   },
   "outputs": [
    {
     "name": "stdout",
     "output_type": "stream",
     "text": [
      "Mounted at /content/drive\n"
     ]
    }
   ],
   "source": [
    "from google.colab import drive\n",
    "import os\n",
    "import shutil\n",
    "import tarfile   # treatment of files .tar\n",
    "import glob\n",
    "from sklearn.model_selection import train_test_split\n",
    "\n",
    "drive.mount('/content/drive')"
   ]
  },
  {
   "cell_type": "markdown",
   "metadata": {
    "id": "iWM7lGSlSUxn"
   },
   "source": [
    "We define the required paths"
   ]
  },
  {
   "cell_type": "code",
   "execution_count": 2,
   "metadata": {
    "executionInfo": {
     "elapsed": 879,
     "status": "ok",
     "timestamp": 1657998388848,
     "user": {
      "displayName": "Miguel Dalmau Casañal",
      "userId": "18435987340009841788"
     },
     "user_tz": -120
    },
    "id": "ruOhokGNSYpC"
   },
   "outputs": [],
   "source": [
    "TFM_directory = '/content/drive/MyDrive/Colab Notebooks/MoleculeDB'\n",
    "path_original_dataset = TFM_directory + '/original_dataset'\n",
    "path_dataset = TFM_directory + '/dataset'\n",
    "path_training_set = TFM_directory + '/training_set'\n",
    "path_validation_set = TFM_directory + '/validation_set'\n",
    "path_test_set = TFM_directory + '/test_set'\n",
    "\n",
    "# NOTICE THAT you need to uncomment the 3 lines below if this is the first time you run this notebook\n",
    "\n",
    "# os.mkdir(path_training_set)\n",
    "# os.mkdir(path_validation_set)\n",
    "# os.mkdir(path_test_set)"
   ]
  },
  {
   "cell_type": "markdown",
   "metadata": {
    "id": "YDli18CHUJF2"
   },
   "source": [
    "We download the database in our directory"
   ]
  },
  {
   "cell_type": "code",
   "execution_count": 4,
   "metadata": {
    "executionInfo": {
     "elapsed": 1005984,
     "status": "ok",
     "timestamp": 1657999618772,
     "user": {
      "displayName": "Miguel Dalmau Casañal",
      "userId": "18435987340009841788"
     },
     "user_tz": -120
    },
    "id": "IEvSHfQIUOy2"
   },
   "outputs": [],
   "source": [
    "my_tar = tarfile.open(path_original_dataset+'/dsgdb9nsd.xyz.tar')\n",
    "my_tar.extractall(path_dataset)\n",
    "my_tar.close()"
   ]
  },
  {
   "cell_type": "code",
   "execution_count": 8,
   "metadata": {
    "colab": {
     "base_uri": "https://localhost:8080/"
    },
    "executionInfo": {
     "elapsed": 139217,
     "status": "ok",
     "timestamp": 1658001385418,
     "user": {
      "displayName": "Miguel Dalmau Casañal",
      "userId": "18435987340009841788"
     },
     "user_tz": -120
    },
    "id": "1El3dWqpYz_W",
    "outputId": "ed25a40b-88bf-4780-cb8c-1b13983cb088"
   },
   "outputs": [
    {
     "name": "stdout",
     "output_type": "stream",
     "text": [
      "Total number of entries: 133885\n"
     ]
    }
   ],
   "source": [
    "files = glob.glob(path_dataset+'/dsgdb9nsd_*.xyz')\n",
    "\n",
    "print('Total number of entries: '+repr(len(files)))"
   ]
  },
  {
   "cell_type": "markdown",
   "metadata": {
    "id": "xpfHQ_z8UcAQ"
   },
   "source": [
    "For this proof-of-principle calculation we are going to work only with 5% of the original dataset (i.e., instead of the original 140K, we will work with about 7K samples)"
   ]
  },
  {
   "cell_type": "code",
   "execution_count": 9,
   "metadata": {
    "colab": {
     "base_uri": "https://localhost:8080/",
     "height": 380
    },
    "executionInfo": {
     "elapsed": 410,
     "status": "error",
     "timestamp": 1658002230963,
     "user": {
      "displayName": "Miguel Dalmau Casañal",
      "userId": "18435987340009841788"
     },
     "user_tz": -120
    },
    "id": "45PAizRyZCwa",
    "outputId": "5bb42354-1572-4a63-83e3-5e7c01f9ad5c"
   },
   "outputs": [
    {
     "ename": "ValueError",
     "evalue": "ignored",
     "output_type": "error",
     "traceback": [
      "\u001b[0;31m---------------------------------------------------------------------------\u001b[0m",
      "\u001b[0;31mValueError\u001b[0m                                Traceback (most recent call last)",
      "\u001b[0;32m<ipython-input-9-21fd632e73a9>\u001b[0m in \u001b[0;36m<module>\u001b[0;34m()\u001b[0m\n\u001b[0;32m----> 1\u001b[0;31m \u001b[0msmaller_dataset\u001b[0m\u001b[0;34m,\u001b[0m \u001b[0m_\u001b[0m \u001b[0;34m=\u001b[0m \u001b[0mtrain_test_split\u001b[0m\u001b[0;34m(\u001b[0m \u001b[0mfiles\u001b[0m\u001b[0;34m,\u001b[0m \u001b[0mtest_size\u001b[0m \u001b[0;34m=\u001b[0m \u001b[0;36m0.0\u001b[0m\u001b[0;34m,\u001b[0m \u001b[0mrandom_state\u001b[0m \u001b[0;34m=\u001b[0m \u001b[0;36m42\u001b[0m \u001b[0;34m)\u001b[0m\u001b[0;34m\u001b[0m\u001b[0;34m\u001b[0m\u001b[0m\n\u001b[0m\u001b[1;32m      2\u001b[0m \u001b[0;34m\u001b[0m\u001b[0m\n\u001b[1;32m      3\u001b[0m \u001b[0mprint\u001b[0m\u001b[0;34m(\u001b[0m\u001b[0;34m'Total number of entries of the smaller dataset: '\u001b[0m\u001b[0;34m+\u001b[0m\u001b[0mrepr\u001b[0m\u001b[0;34m(\u001b[0m\u001b[0mlen\u001b[0m\u001b[0;34m(\u001b[0m\u001b[0msmaller_dataset\u001b[0m\u001b[0;34m)\u001b[0m\u001b[0;34m)\u001b[0m\u001b[0;34m)\u001b[0m\u001b[0;34m\u001b[0m\u001b[0;34m\u001b[0m\u001b[0m\n",
      "\u001b[0;32m/usr/local/lib/python3.7/dist-packages/sklearn/model_selection/_split.py\u001b[0m in \u001b[0;36mtrain_test_split\u001b[0;34m(test_size, train_size, random_state, shuffle, stratify, *arrays)\u001b[0m\n\u001b[1;32m   2419\u001b[0m     \u001b[0mn_samples\u001b[0m \u001b[0;34m=\u001b[0m \u001b[0m_num_samples\u001b[0m\u001b[0;34m(\u001b[0m\u001b[0marrays\u001b[0m\u001b[0;34m[\u001b[0m\u001b[0;36m0\u001b[0m\u001b[0;34m]\u001b[0m\u001b[0;34m)\u001b[0m\u001b[0;34m\u001b[0m\u001b[0;34m\u001b[0m\u001b[0m\n\u001b[1;32m   2420\u001b[0m     n_train, n_test = _validate_shuffle_split(\n\u001b[0;32m-> 2421\u001b[0;31m         \u001b[0mn_samples\u001b[0m\u001b[0;34m,\u001b[0m \u001b[0mtest_size\u001b[0m\u001b[0;34m,\u001b[0m \u001b[0mtrain_size\u001b[0m\u001b[0;34m,\u001b[0m \u001b[0mdefault_test_size\u001b[0m\u001b[0;34m=\u001b[0m\u001b[0;36m0.25\u001b[0m\u001b[0;34m\u001b[0m\u001b[0;34m\u001b[0m\u001b[0m\n\u001b[0m\u001b[1;32m   2422\u001b[0m     )\n\u001b[1;32m   2423\u001b[0m \u001b[0;34m\u001b[0m\u001b[0m\n",
      "\u001b[0;32m/usr/local/lib/python3.7/dist-packages/sklearn/model_selection/_split.py\u001b[0m in \u001b[0;36m_validate_shuffle_split\u001b[0;34m(n_samples, test_size, train_size, default_test_size)\u001b[0m\n\u001b[1;32m   2044\u001b[0m             \u001b[0;34m\"test_size={0} should be either positive and smaller\"\u001b[0m\u001b[0;34m\u001b[0m\u001b[0;34m\u001b[0m\u001b[0m\n\u001b[1;32m   2045\u001b[0m             \u001b[0;34m\" than the number of samples {1} or a float in the \"\u001b[0m\u001b[0;34m\u001b[0m\u001b[0;34m\u001b[0m\u001b[0m\n\u001b[0;32m-> 2046\u001b[0;31m             \u001b[0;34m\"(0, 1) range\"\u001b[0m\u001b[0;34m.\u001b[0m\u001b[0mformat\u001b[0m\u001b[0;34m(\u001b[0m\u001b[0mtest_size\u001b[0m\u001b[0;34m,\u001b[0m \u001b[0mn_samples\u001b[0m\u001b[0;34m)\u001b[0m\u001b[0;34m\u001b[0m\u001b[0;34m\u001b[0m\u001b[0m\n\u001b[0m\u001b[1;32m   2047\u001b[0m         )\n\u001b[1;32m   2048\u001b[0m \u001b[0;34m\u001b[0m\u001b[0m\n",
      "\u001b[0;31mValueError\u001b[0m: test_size=0.0 should be either positive and smaller than the number of samples 133885 or a float in the (0, 1) range"
     ]
    }
   ],
   "source": [
    "#smaller_dataset, _ = train_test_split( files, test_size = 0.0, random_state = 42 )\n",
    "\n",
    "#print('Total number of entries of the smaller dataset: '+repr(len(smaller_dataset)))"
   ]
  },
  {
   "cell_type": "markdown",
   "metadata": {
    "id": "Ct1b0T4nZG7g"
   },
   "source": [
    "We now split the smaller database into train (80%), validate(10%) and test (10%) sets, and store them in directories"
   ]
  },
  {
   "cell_type": "code",
   "execution_count": 10,
   "metadata": {
    "colab": {
     "base_uri": "https://localhost:8080/"
    },
    "executionInfo": {
     "elapsed": 408,
     "status": "ok",
     "timestamp": 1658002262234,
     "user": {
      "displayName": "Miguel Dalmau Casañal",
      "userId": "18435987340009841788"
     },
     "user_tz": -120
    },
    "id": "DDmyXsuHZHQf",
    "outputId": "1834d4fd-f105-4bd1-d055-61d300ea9fce"
   },
   "outputs": [
    {
     "name": "stdout",
     "output_type": "stream",
     "text": [
      "test_size = 13389\n",
      "validate_size = 12050\n",
      "train_size = 108446\n",
      "total_size = 133885\n"
     ]
    }
   ],
   "source": [
    "#reminder_set, test = train_test_split( smaller_dataset, test_size = 0.1, random_state = 42 )\n",
    "reminder_set, test = train_test_split( files, test_size = 0.1, random_state = 42 )\n",
    "train, validate = train_test_split( reminder_set, test_size = 0.1, random_state = 42 )\n",
    "\n",
    "print('test_size = '+repr(len(test)))\n",
    "print('validate_size = '+repr(len(validate)))\n",
    "print('train_size = '+repr(len(train)))\n",
    "\n",
    "total = len(test) + len(validate) + len( train )\n",
    "\n",
    "print('total_size = '+repr(total))"
   ]
  },
  {
   "cell_type": "markdown",
   "metadata": {
    "id": "Pf--VNQrZ0Ad"
   },
   "source": [
    "Now, we just move the right files to the corresponding directories for the smaller size proof-of-concept"
   ]
  },
  {
   "cell_type": "code",
   "execution_count": 11,
   "metadata": {
    "executionInfo": {
     "elapsed": 532966,
     "status": "ok",
     "timestamp": 1658002809437,
     "user": {
      "displayName": "Miguel Dalmau Casañal",
      "userId": "18435987340009841788"
     },
     "user_tz": -120
    },
    "id": "745mLXcfZzIQ"
   },
   "outputs": [],
   "source": [
    "# move test files to test\n",
    "    \n",
    "for file in test:\n",
    "    shutil.move(file, path_test_set)\n",
    "\n",
    "# move validate files to validate\n",
    "\n",
    "for file in validate:\n",
    "    shutil.move(file, path_validation_set)\n",
    "    \n",
    "# move train files to train\n",
    "\n",
    "for file in train:\n",
    "    shutil.move(file, path_training_set)"
   ]
  }
 ],
 "metadata": {
  "colab": {
   "collapsed_sections": [],
   "name": "1_Notebook_gen_database_MiguelTFM.ipynb",
   "provenance": [
    {
     "file_id": "1QHVIF6vZlfReXisxLQ9d2guCsj02JxaO",
     "timestamp": 1657194418086
    }
   ]
  },
  "kernelspec": {
   "display_name": "Python 3 (ipykernel)",
   "language": "python",
   "name": "python3"
  },
  "language_info": {
   "codemirror_mode": {
    "name": "ipython",
    "version": 3
   },
   "file_extension": ".py",
   "mimetype": "text/x-python",
   "name": "python",
   "nbconvert_exporter": "python",
   "pygments_lexer": "ipython3",
   "version": "3.9.7"
  }
 },
 "nbformat": 4,
 "nbformat_minor": 1
}
